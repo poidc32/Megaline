{
 "cells": [
  {
   "cell_type": "markdown",
   "metadata": {},
   "source": [
    "## Descripción del proyecto"
   ]
  },
  {
   "cell_type": "markdown",
   "metadata": {},
   "source": [
    "La compañía móvil Megaline no está satisfecha al ver que muchos de sus clientes utilizan planes heredados. Quieren desarrollar un modelo que pueda analizar el comportamiento de los clientes y recomendar uno de los nuevos planes de Megaline: Smart o Ultra.\n"
   ]
  },
  {
   "cell_type": "markdown",
   "metadata": {},
   "source": [
    "## Descripción de datos"
   ]
  },
  {
   "cell_type": "markdown",
   "metadata": {},
   "source": [
    "Cada observación en el dataset contiene información del comportamiento mensual sobre un usuario. La información dada es la siguiente:\n",
    "\n",
    "- сalls — número de llamadas,\n",
    "\n",
    "- minutes — duración total de la llamada en minutos,\n",
    "\n",
    "- messages — número de mensajes de texto,\n",
    "\n",
    "- mb_used — Tráfico de Internet utilizado en MB,\n",
    "\n",
    "- is_ultra — plan para el mes actual (Ultra - 1, Smart - 0)."
   ]
  },
  {
   "cell_type": "markdown",
   "metadata": {},
   "source": [
    "## Análisis exploratorio de datos"
   ]
  },
  {
   "cell_type": "code",
   "execution_count": 1,
   "metadata": {},
   "outputs": [],
   "source": [
    "# Se importan las librerías a utilizar\n",
    "import pandas as pd\n",
    "from sklearn.ensemble import RandomForestClassifier\n",
    "from sklearn.linear_model import LogisticRegression\n",
    "from sklearn.model_selection import train_test_split\n",
    "from sklearn.metrics import accuracy_score"
   ]
  },
  {
   "cell_type": "code",
   "execution_count": 3,
   "metadata": {},
   "outputs": [
    {
     "name": "stdout",
     "output_type": "stream",
     "text": [
      "<class 'pandas.core.frame.DataFrame'>\n",
      "RangeIndex: 3214 entries, 0 to 3213\n",
      "Data columns (total 5 columns):\n",
      " #   Column    Non-Null Count  Dtype  \n",
      "---  ------    --------------  -----  \n",
      " 0   calls     3214 non-null   float64\n",
      " 1   minutes   3214 non-null   float64\n",
      " 2   messages  3214 non-null   float64\n",
      " 3   mb_used   3214 non-null   float64\n",
      " 4   is_ultra  3214 non-null   int64  \n",
      "dtypes: float64(4), int64(1)\n",
      "memory usage: 125.7 KB\n"
     ]
    },
    {
     "data": {
      "text/html": [
       "<div>\n",
       "<style scoped>\n",
       "    .dataframe tbody tr th:only-of-type {\n",
       "        vertical-align: middle;\n",
       "    }\n",
       "\n",
       "    .dataframe tbody tr th {\n",
       "        vertical-align: top;\n",
       "    }\n",
       "\n",
       "    .dataframe thead th {\n",
       "        text-align: right;\n",
       "    }\n",
       "</style>\n",
       "<table border=\"1\" class=\"dataframe\">\n",
       "  <thead>\n",
       "    <tr style=\"text-align: right;\">\n",
       "      <th></th>\n",
       "      <th>calls</th>\n",
       "      <th>minutes</th>\n",
       "      <th>messages</th>\n",
       "      <th>mb_used</th>\n",
       "      <th>is_ultra</th>\n",
       "    </tr>\n",
       "  </thead>\n",
       "  <tbody>\n",
       "    <tr>\n",
       "      <th>0</th>\n",
       "      <td>40.0</td>\n",
       "      <td>311.90</td>\n",
       "      <td>83.0</td>\n",
       "      <td>19915.42</td>\n",
       "      <td>0</td>\n",
       "    </tr>\n",
       "    <tr>\n",
       "      <th>1</th>\n",
       "      <td>85.0</td>\n",
       "      <td>516.75</td>\n",
       "      <td>56.0</td>\n",
       "      <td>22696.96</td>\n",
       "      <td>0</td>\n",
       "    </tr>\n",
       "    <tr>\n",
       "      <th>2</th>\n",
       "      <td>77.0</td>\n",
       "      <td>467.66</td>\n",
       "      <td>86.0</td>\n",
       "      <td>21060.45</td>\n",
       "      <td>0</td>\n",
       "    </tr>\n",
       "    <tr>\n",
       "      <th>3</th>\n",
       "      <td>106.0</td>\n",
       "      <td>745.53</td>\n",
       "      <td>81.0</td>\n",
       "      <td>8437.39</td>\n",
       "      <td>1</td>\n",
       "    </tr>\n",
       "    <tr>\n",
       "      <th>4</th>\n",
       "      <td>66.0</td>\n",
       "      <td>418.74</td>\n",
       "      <td>1.0</td>\n",
       "      <td>14502.75</td>\n",
       "      <td>0</td>\n",
       "    </tr>\n",
       "  </tbody>\n",
       "</table>\n",
       "</div>"
      ],
      "text/plain": [
       "   calls  minutes  messages   mb_used  is_ultra\n",
       "0   40.0   311.90      83.0  19915.42         0\n",
       "1   85.0   516.75      56.0  22696.96         0\n",
       "2   77.0   467.66      86.0  21060.45         0\n",
       "3  106.0   745.53      81.0   8437.39         1\n",
       "4   66.0   418.74       1.0  14502.75         0"
      ]
     },
     "execution_count": 3,
     "metadata": {},
     "output_type": "execute_result"
    }
   ],
   "source": [
    "# Se lee el dataframe, asi como visualizar sus columnas e información\n",
    "df = pd.read_csv('users_behavior.csv')\n",
    "df.info()\n",
    "df.head()"
   ]
  },
  {
   "cell_type": "markdown",
   "metadata": {},
   "source": [
    "## Segmentación de datos "
   ]
  },
  {
   "cell_type": "code",
   "execution_count": 4,
   "metadata": {},
   "outputs": [],
   "source": [
    "df_train, df_temporal = train_test_split(df, test_size=0.4, random_state=54321) #Se separa el df en uno de entrenamiento y uno temporal\n",
    "df_valid, df_test = train_test_split(df_temporal, test_size=0.5, random_state=54321) #El df temporal se separa en dos nuevamente, el df de validacion y el df de prueba"
   ]
  },
  {
   "cell_type": "code",
   "execution_count": 5,
   "metadata": {},
   "outputs": [],
   "source": [
    "# Se declaran dos variables para el df de entrenamiento, validación y prueba.\n",
    "features_train = df_train.drop(['is_ultra'], axis=1)\n",
    "target_train = df_train['is_ultra']\n",
    "\n",
    "features_valid = df_valid.drop(['is_ultra'], axis=1)\n",
    "target_valid = df_valid['is_ultra']\n",
    "\n",
    "test_features = df_test.drop(['is_ultra'], axis=1)\n",
    "test_target = df_test['is_ultra']"
   ]
  },
  {
   "cell_type": "markdown",
   "metadata": {},
   "source": [
    "## Entrenando diferentes modelos"
   ]
  },
  {
   "cell_type": "markdown",
   "metadata": {},
   "source": [
    "**Se seleccionaron los modelos de Bosque Aleatorio y Regresión Logística debido a su destacada eficiencia y precisión en comparación con los otros modelos evaluados.**"
   ]
  },
  {
   "cell_type": "markdown",
   "metadata": {},
   "source": [
    "### Bosque aleatorio"
   ]
  },
  {
   "cell_type": "code",
   "execution_count": 6,
   "metadata": {},
   "outputs": [
    {
     "name": "stdout",
     "output_type": "stream",
     "text": [
      "La exactitud del mejor modelo en el conjunto de validación (n_estimators = 44): 0.7853810264385692\n"
     ]
    }
   ],
   "source": [
    "# Se iteran diferentes valores de n_estimators con un bucle y compararemos la calidad de las diferentes versiones del modelo.\n",
    "best_score = 0\n",
    "best_est = 0\n",
    "for est in range(1, 51): # seleccionamos el rango del hiperparámetro\n",
    "    model = RandomForestClassifier(random_state=54321, n_estimators=est) # configuramos el número de árboles\n",
    "    model.fit(features_train, target_train) # entrenamos el modelo en el conjunto de entrenamiento\n",
    "    score = model.score(features_valid, target_valid) # calculamos la puntuación de exactitud en el conjunto de validación\n",
    "    if score > best_score:\n",
    "        best_score = score# guardamos la mejor puntuación de exactitud en el conjunto de validación\n",
    "        best_est = est# se guarda el número de estimadores que corresponden a la mejor puntuación de exactitud\n",
    "\n",
    "print(\"La exactitud del mejor modelo en el conjunto de validación (n_estimators = {}): {}\".format(best_est, best_score))"
   ]
  },
  {
   "cell_type": "markdown",
   "metadata": {},
   "source": [
    "### Regresion logística"
   ]
  },
  {
   "cell_type": "code",
   "execution_count": 7,
   "metadata": {},
   "outputs": [
    {
     "name": "stdout",
     "output_type": "stream",
     "text": [
      "Exactitud del modelo de regresión logística en el conjunto de entrenamiento: 0.7131742738589212\n",
      "Exactitud del modelo de regresión logística en el conjunto de validación: 0.6780715396578538\n"
     ]
    }
   ],
   "source": [
    "# Se prueba ahora el modelo de regresion lógistica para evaluar su exactitud\n",
    "model = LogisticRegression(random_state=54321, solver='liblinear')# inicializamos el constructor de regresión logística\n",
    "model.fit(features_train, target_train) # # entrena el modelo en el conjunto de entrenamiento\n",
    "score_train = model.score(features_train, target_train) # calculamos la puntuación de accuracy en el conjunto de entrenamiento\n",
    "score_valid = model.score(features_valid, target_valid) # calculamos la puntuación de accuracy en el conjunto de validación\n",
    "\n",
    "print(\"Exactitud del modelo de regresión logística en el conjunto de entrenamiento:\", score_train)\n",
    "print(\"Exactitud del modelo de regresión logística en el conjunto de validación:\", score_valid)"
   ]
  },
  {
   "cell_type": "markdown",
   "metadata": {},
   "source": [
    "**Tras evaluar el desempeño de los distintos modelos, se ha observado que el modelo de Bosque Aleatorio presenta la mayor precisión en los resultados obtenidos. En consecuencia, se ha decidido continuar con su aplicación en el conjunto de prueba para una evaluación más exhaustiva.**"
   ]
  },
  {
   "cell_type": "markdown",
   "metadata": {},
   "source": [
    "## Modelo con conjunto de prueba"
   ]
  },
  {
   "cell_type": "code",
   "execution_count": 8,
   "metadata": {},
   "outputs": [
    {
     "name": "stdout",
     "output_type": "stream",
     "text": [
      "La exactitud del modelo en el conjunto de prueba: 0.8195956454121306\n"
     ]
    }
   ],
   "source": [
    "final_model = RandomForestClassifier(random_state=54321, n_estimators=44)\n",
    "final_model.fit(features_train, target_train)\n",
    "score_final = final_model.score(test_features, test_target)\n",
    "predictions = final_model.predict(test_features)\n",
    "\n",
    "print(\"La exactitud del modelo en el conjunto de prueba:\", score_final)"
   ]
  },
  {
   "cell_type": "markdown",
   "metadata": {},
   "source": [
    "**Se observa una elevada exactitud con nuestro modelo de bosque aleatorio utilizando el conjunto de prueba, por lo cual, se esta satisfecho con el resultado obtenido**"
   ]
  }
 ],
 "metadata": {
  "ExecuteTimeLog": [
   {
    "duration": 158,
    "start_time": "2024-11-12T21:05:00.445Z"
   },
   {
    "duration": 307,
    "start_time": "2024-11-12T21:05:02.462Z"
   },
   {
    "duration": 386,
    "start_time": "2024-11-12T21:05:03.984Z"
   },
   {
    "duration": 24,
    "start_time": "2024-11-12T21:05:37.863Z"
   },
   {
    "duration": 19,
    "start_time": "2024-11-12T21:07:37.533Z"
   },
   {
    "duration": 552,
    "start_time": "2024-11-12T21:28:37.073Z"
   },
   {
    "duration": 3,
    "start_time": "2024-11-12T21:29:44.574Z"
   },
   {
    "duration": 2,
    "start_time": "2024-11-12T21:31:02.996Z"
   },
   {
    "duration": 3,
    "start_time": "2024-11-12T21:31:06.381Z"
   },
   {
    "duration": 3,
    "start_time": "2024-11-12T21:32:36.174Z"
   },
   {
    "duration": 772,
    "start_time": "2024-11-13T05:18:01.740Z"
   },
   {
    "duration": 28,
    "start_time": "2024-11-13T05:18:03.422Z"
   },
   {
    "duration": 17,
    "start_time": "2024-11-13T05:18:11.379Z"
   },
   {
    "duration": 6,
    "start_time": "2024-11-13T05:18:13.792Z"
   },
   {
    "duration": 276,
    "start_time": "2024-11-13T15:45:37.569Z"
   },
   {
    "duration": 975,
    "start_time": "2024-11-13T16:04:55.470Z"
   },
   {
    "duration": 36,
    "start_time": "2024-11-13T16:04:56.447Z"
   },
   {
    "duration": 7,
    "start_time": "2024-11-13T16:04:56.485Z"
   },
   {
    "duration": 5,
    "start_time": "2024-11-13T16:04:56.495Z"
   },
   {
    "duration": 809,
    "start_time": "2024-11-14T03:30:37.686Z"
   },
   {
    "duration": 24,
    "start_time": "2024-11-14T03:30:38.497Z"
   },
   {
    "duration": 5,
    "start_time": "2024-11-14T03:30:38.522Z"
   },
   {
    "duration": 5,
    "start_time": "2024-11-14T03:30:38.529Z"
   },
   {
    "duration": 213,
    "start_time": "2024-11-14T03:30:38.535Z"
   },
   {
    "duration": 3984,
    "start_time": "2024-11-14T03:30:54.133Z"
   },
   {
    "duration": 160,
    "start_time": "2024-11-14T05:27:52.923Z"
   },
   {
    "duration": 738,
    "start_time": "2024-11-14T05:28:01.387Z"
   },
   {
    "duration": 27,
    "start_time": "2024-11-14T05:28:02.127Z"
   },
   {
    "duration": 5,
    "start_time": "2024-11-14T05:28:02.156Z"
   },
   {
    "duration": 4,
    "start_time": "2024-11-14T05:28:02.163Z"
   },
   {
    "duration": 3996,
    "start_time": "2024-11-14T05:28:02.170Z"
   },
   {
    "duration": 10,
    "start_time": "2024-11-14T05:28:06.168Z"
   },
   {
    "duration": 548,
    "start_time": "2024-11-14T05:58:22.454Z"
   },
   {
    "duration": 52,
    "start_time": "2024-11-14T06:01:24.429Z"
   },
   {
    "duration": 24,
    "start_time": "2024-11-14T06:06:31.101Z"
   },
   {
    "duration": 23,
    "start_time": "2024-11-14T06:07:00.059Z"
   },
   {
    "duration": 24,
    "start_time": "2024-11-14T06:07:39.458Z"
   },
   {
    "duration": 7,
    "start_time": "2024-11-14T06:13:19.577Z"
   },
   {
    "duration": 17,
    "start_time": "2024-11-14T06:13:49.326Z"
   },
   {
    "duration": 8,
    "start_time": "2024-11-14T06:14:08.815Z"
   },
   {
    "duration": 26,
    "start_time": "2024-11-14T06:14:42.358Z"
   },
   {
    "duration": 299,
    "start_time": "2024-11-14T06:14:52.300Z"
   },
   {
    "duration": 141,
    "start_time": "2024-11-14T06:28:57.540Z"
   },
   {
    "duration": 145,
    "start_time": "2024-11-14T06:30:56.698Z"
   },
   {
    "duration": 752,
    "start_time": "2024-11-14T06:31:17.874Z"
   },
   {
    "duration": 22,
    "start_time": "2024-11-14T06:31:18.628Z"
   },
   {
    "duration": 5,
    "start_time": "2024-11-14T06:31:18.652Z"
   },
   {
    "duration": 4,
    "start_time": "2024-11-14T06:31:18.659Z"
   },
   {
    "duration": 3983,
    "start_time": "2024-11-14T06:31:18.664Z"
   },
   {
    "duration": 10,
    "start_time": "2024-11-14T06:31:22.649Z"
   },
   {
    "duration": 157,
    "start_time": "2024-11-14T06:31:22.661Z"
   },
   {
    "duration": 168,
    "start_time": "2024-11-14T15:22:27.028Z"
   },
   {
    "duration": 822,
    "start_time": "2024-11-14T15:22:39.259Z"
   },
   {
    "duration": 29,
    "start_time": "2024-11-14T15:22:40.083Z"
   },
   {
    "duration": 5,
    "start_time": "2024-11-14T15:22:40.113Z"
   },
   {
    "duration": 10,
    "start_time": "2024-11-14T15:22:40.121Z"
   },
   {
    "duration": 4099,
    "start_time": "2024-11-14T15:22:40.132Z"
   },
   {
    "duration": 9,
    "start_time": "2024-11-14T15:22:44.233Z"
   },
   {
    "duration": 387,
    "start_time": "2024-11-14T15:22:44.244Z"
   },
   {
    "duration": 6,
    "start_time": "2024-11-14T15:23:05.523Z"
   },
   {
    "duration": 141,
    "start_time": "2024-11-14T15:23:19.558Z"
   },
   {
    "duration": 150,
    "start_time": "2024-11-14T15:23:47.663Z"
   },
   {
    "duration": 143,
    "start_time": "2024-11-14T15:23:56.803Z"
   },
   {
    "duration": 142,
    "start_time": "2024-11-14T15:29:44.258Z"
   },
   {
    "duration": 147,
    "start_time": "2024-11-14T15:33:39.627Z"
   },
   {
    "duration": 164,
    "start_time": "2024-11-14T15:35:48.650Z"
   },
   {
    "duration": 151,
    "start_time": "2024-11-14T15:35:56.370Z"
   },
   {
    "duration": 763,
    "start_time": "2024-11-14T15:48:10.217Z"
   },
   {
    "duration": 22,
    "start_time": "2024-11-14T15:48:10.983Z"
   },
   {
    "duration": 6,
    "start_time": "2024-11-14T15:48:11.007Z"
   },
   {
    "duration": 16,
    "start_time": "2024-11-14T15:48:11.015Z"
   },
   {
    "duration": 4202,
    "start_time": "2024-11-14T15:48:11.033Z"
   },
   {
    "duration": 11,
    "start_time": "2024-11-14T15:48:15.237Z"
   },
   {
    "duration": 164,
    "start_time": "2024-11-14T15:48:15.249Z"
   },
   {
    "duration": 846,
    "start_time": "2024-11-14T15:50:04.823Z"
   },
   {
    "duration": 22,
    "start_time": "2024-11-14T15:50:05.671Z"
   },
   {
    "duration": 5,
    "start_time": "2024-11-14T15:50:05.695Z"
   },
   {
    "duration": 5,
    "start_time": "2024-11-14T15:50:05.702Z"
   },
   {
    "duration": 4072,
    "start_time": "2024-11-14T15:50:05.710Z"
   },
   {
    "duration": 11,
    "start_time": "2024-11-14T15:50:09.784Z"
   },
   {
    "duration": 158,
    "start_time": "2024-11-14T15:50:09.796Z"
   },
   {
    "duration": 11,
    "start_time": "2024-11-14T15:50:35.324Z"
   },
   {
    "duration": 9,
    "start_time": "2024-11-14T15:50:50.096Z"
   },
   {
    "duration": 2,
    "start_time": "2024-11-14T15:54:46.492Z"
   },
   {
    "duration": 771,
    "start_time": "2024-11-14T15:55:11.318Z"
   },
   {
    "duration": 22,
    "start_time": "2024-11-14T15:55:12.091Z"
   },
   {
    "duration": 6,
    "start_time": "2024-11-14T15:55:12.114Z"
   },
   {
    "duration": 14,
    "start_time": "2024-11-14T15:55:12.121Z"
   },
   {
    "duration": 4088,
    "start_time": "2024-11-14T15:55:12.137Z"
   },
   {
    "duration": 9,
    "start_time": "2024-11-14T15:55:16.227Z"
   },
   {
    "duration": 160,
    "start_time": "2024-11-14T15:55:16.238Z"
   }
  ],
  "kernelspec": {
   "display_name": "base",
   "language": "python",
   "name": "python3"
  },
  "language_info": {
   "codemirror_mode": {
    "name": "ipython",
    "version": 3
   },
   "file_extension": ".py",
   "mimetype": "text/x-python",
   "name": "python",
   "nbconvert_exporter": "python",
   "pygments_lexer": "ipython3",
   "version": "3.12.7"
  },
  "toc": {
   "base_numbering": 1,
   "nav_menu": {},
   "number_sections": true,
   "sideBar": true,
   "skip_h1_title": true,
   "title_cell": "Table of Contents",
   "title_sidebar": "Contents",
   "toc_cell": false,
   "toc_position": {},
   "toc_section_display": true,
   "toc_window_display": false
  }
 },
 "nbformat": 4,
 "nbformat_minor": 2
}
